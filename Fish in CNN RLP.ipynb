{
 "cells": [
  {
   "cell_type": "markdown",
   "metadata": {},
   "source": [
    "# Fish in CNN RLP"
   ]
  },
  {
   "cell_type": "markdown",
   "metadata": {},
   "source": [
    "## 1. Import Packages"
   ]
  },
  {
   "cell_type": "code",
   "execution_count": 1,
   "metadata": {},
   "outputs": [
    {
     "name": "stderr",
     "output_type": "stream",
     "text": [
      "Using TensorFlow backend.\n"
     ]
    }
   ],
   "source": [
    "from keras.preprocessing.image import ImageDataGenerator\n",
    "\n",
    "from keras.models import Sequential\n",
    "from keras.layers import Conv2D, MaxPooling2D, Dense, Flatten, Dropout"
   ]
  },
  {
   "cell_type": "markdown",
   "metadata": {},
   "source": [
    "## 2. Parameter Setting"
   ]
  },
  {
   "cell_type": "code",
   "execution_count": 2,
   "metadata": {},
   "outputs": [],
   "source": [
    "train_data_directory = './images/train'\n",
    "test_data_directory = './images/test'\n",
    "\n",
    "img_width, img_height = 100, 100\n",
    "\n",
    "nb_train_samples = 800\n",
    "nb_validation_samples = 200\n",
    "\n",
    "batch_size = 32\n",
    "epochs = 200"
   ]
  },
  {
   "cell_type": "markdown",
   "metadata": {},
   "source": [
    "## 3. Data Augmentation"
   ]
  },
  {
   "cell_type": "code",
   "execution_count": 3,
   "metadata": {},
   "outputs": [],
   "source": [
    "train_data_generator = ImageDataGenerator(rescale=1. / 255,\n",
    "                                          rotation_range = 90,\n",
    "                                          width_shift_range = 0.2,\n",
    "                                          height_shift_range = 0.2,\n",
    "                                          zoom_range = 0.3,\n",
    "                                          horizontal_flip = True)\n",
    "\n",
    "test_data_generator = ImageDataGenerator(rescale=1. / 255)\n",
    "\n",
    "# 在这里需要对训练数据进行数据扩展，需要进行参数设置\n",
    "# 对于测试数据集我们需要使用原数据，只进行标准化操作"
   ]
  },
  {
   "cell_type": "code",
   "execution_count": 4,
   "metadata": {},
   "outputs": [
    {
     "name": "stdout",
     "output_type": "stream",
     "text": [
      "Found 2400 images belonging to 6 classes.\n",
      "Found 600 images belonging to 6 classes.\n"
     ]
    }
   ],
   "source": [
    "train_gen = train_data_generator.flow_from_directory(train_data_directory,\n",
    "                                                           target_size=(img_width, img_height),\n",
    "                                                           batch_size=batch_size,\n",
    "                                                           class_mode='categorical')\n",
    "\n",
    "validation_gen = test_data_generator.flow_from_directory(test_data_directory,\n",
    "                                                               target_size=(img_width, img_height),\n",
    "                                                               batch_size=batch_size,\n",
    "                                                               class_mode='categorical')\n",
    "\n",
    "# 二分类任务class_mode使用“binary”\n",
    "# 多分类任务class_mode使用“categorical”"
   ]
  },
  {
   "cell_type": "markdown",
   "metadata": {},
   "source": [
    "## 4. Model Building"
   ]
  },
  {
   "cell_type": "code",
   "execution_count": null,
   "metadata": {},
   "outputs": [
    {
     "name": "stdout",
     "output_type": "stream",
     "text": [
      "_________________________________________________________________\n",
      "Layer (type)                 Output Shape              Param #   \n",
      "=================================================================\n",
      "conv2d_1 (Conv2D)            (None, 98, 98, 32)        896       \n",
      "_________________________________________________________________\n",
      "max_pooling2d_1 (MaxPooling2 (None, 49, 49, 32)        0         \n",
      "_________________________________________________________________\n",
      "conv2d_2 (Conv2D)            (None, 47, 47, 32)        9248      \n",
      "_________________________________________________________________\n",
      "max_pooling2d_2 (MaxPooling2 (None, 23, 23, 32)        0         \n",
      "_________________________________________________________________\n",
      "conv2d_3 (Conv2D)            (None, 21, 21, 64)        18496     \n",
      "_________________________________________________________________\n",
      "max_pooling2d_3 (MaxPooling2 (None, 10, 10, 64)        0         \n",
      "_________________________________________________________________\n",
      "flatten_1 (Flatten)          (None, 6400)              0         \n",
      "_________________________________________________________________\n",
      "dense_1 (Dense)              (None, 64)                409664    \n",
      "_________________________________________________________________\n",
      "dropout_1 (Dropout)          (None, 64)                0         \n",
      "_________________________________________________________________\n",
      "dense_2 (Dense)              (None, 6)                 390       \n",
      "=================================================================\n",
      "Total params: 438,694\n",
      "Trainable params: 438,694\n",
      "Non-trainable params: 0\n",
      "_________________________________________________________________\n"
     ]
    }
   ],
   "source": [
    "model = Sequential()\n",
    "\n",
    "model.add(Conv2D(32, (3, 3), input_shape=(img_width, img_height, 3), activation=\"relu\")) \n",
    "model.add(MaxPooling2D(pool_size=(2, 2)))\n",
    "\n",
    "model.add(Conv2D(32, (3, 3), activation=\"relu\"))\n",
    "model.add(MaxPooling2D(pool_size=(2, 2)))\n",
    "\n",
    "model.add(Conv2D(64, (3, 3), activation=\"relu\"))\n",
    "model.add(MaxPooling2D(pool_size=(2, 2)))\n",
    "\n",
    "model.add(Flatten())\n",
    "model.add(Dense(64, activation=\"relu\"))\n",
    "model.add(Dropout(0.5))\n",
    "model.add(Dense(6, activation=\"softmax\"))\n",
    "\n",
    "model.compile(loss='categorical_crossentropy',\n",
    "              optimizer='rmsprop',\n",
    "              metrics=['accuracy'])\n",
    "\n",
    "model.summary()"
   ]
  },
  {
   "cell_type": "markdown",
   "metadata": {},
   "source": [
    "## 5. Callbacks Setting"
   ]
  },
  {
   "cell_type": "markdown",
   "metadata": {},
   "source": [
    "### 5.1. TensorBoard"
   ]
  },
  {
   "cell_type": "code",
   "execution_count": null,
   "metadata": {},
   "outputs": [],
   "source": [
    "import keras.callbacks as callbacks"
   ]
  },
  {
   "cell_type": "code",
   "execution_count": null,
   "metadata": {},
   "outputs": [],
   "source": [
    "tensor_board = callbacks.TensorBoard(log_dir='./logs')\n",
    "\n",
    "# 设置TensorBoard的log路径：”./logs“即”/Users/xijiago/Desktop/fish-detection/logs“\n",
    "\n",
    "# 激活TensorFlow环境：conda activate tensorflow\n",
    "# 启动TensorBoard：tensorboard --logdir /Users/xijiago/Desktop/fish-detection/logs\n",
    "# 注：”tensorboard --logdir <PATH>“中的”<PATH>“即为我们设置的日志路径的完整路径（从计算机根目录开始）http://localhost:8888/notebooks/Fish%20in%20CNN%20RLP.ipynb#5.2.-ReduceLROnPlateau"
   ]
  },
  {
   "cell_type": "markdown",
   "metadata": {},
   "source": [
    "### 5.2. ReduceLROnPlateau"
   ]
  },
  {
   "cell_type": "code",
   "execution_count": null,
   "metadata": {},
   "outputs": [],
   "source": [
    "from keras.callbacks import ReduceLROnPlateau"
   ]
  },
  {
   "cell_type": "code",
   "execution_count": null,
   "metadata": {},
   "outputs": [],
   "source": [
    "reduce_lr = ReduceLROnPlateau(monitor='val_loss', patience=20, mode='auto')"
   ]
  },
  {
   "cell_type": "markdown",
   "metadata": {},
   "source": [
    "### 5.3. MyCallbacks: Learning Rate Callback"
   ]
  },
  {
   "cell_type": "code",
   "execution_count": null,
   "metadata": {},
   "outputs": [],
   "source": [
    "from keras.callbacks import Callback\n",
    "import keras.backend as K"
   ]
  },
  {
   "cell_type": "code",
   "execution_count": null,
   "metadata": {},
   "outputs": [],
   "source": [
    "class LearningRateHistory(Callback):\n",
    "    def on_train_begin(self, logs={}):\n",
    "        self.lrHistory = []\n",
    "\n",
    "    def on_epoch_end(self, epoch, logs={}):\n",
    "        lr = K.get_value(model.optimizer.lr)\n",
    "        self.lrHistory.append(lr)\n",
    "        print('Current Learning Rate: ' + str(lr))"
   ]
  },
  {
   "cell_type": "code",
   "execution_count": null,
   "metadata": {},
   "outputs": [],
   "source": [
    "lrHistory = LearningRateHistory()"
   ]
  },
  {
   "cell_type": "markdown",
   "metadata": {},
   "source": [
    "## 6. Model Training"
   ]
  },
  {
   "cell_type": "code",
   "execution_count": null,
   "metadata": {},
   "outputs": [
    {
     "name": "stdout",
     "output_type": "stream",
     "text": [
      "Epoch 1/200\n",
      "25/25 [==============================] - 32s 1s/step - loss: 1.8049 - acc: 0.1875 - val_loss: 1.7617 - val_acc: 0.1875\n",
      "Current Learning Rate: 0.001\n",
      "Epoch 2/200\n",
      "25/25 [==============================] - 34s 1s/step - loss: 1.7723 - acc: 0.2125 - val_loss: 1.8104 - val_acc: 0.1823\n",
      "Current Learning Rate: 0.001\n",
      "Epoch 3/200\n",
      "25/25 [==============================] - 31s 1s/step - loss: 1.7064 - acc: 0.2888 - val_loss: 1.7022 - val_acc: 0.1823\n",
      "Current Learning Rate: 0.001\n",
      "Epoch 4/200\n",
      "25/25 [==============================] - 29s 1s/step - loss: 1.6367 - acc: 0.3488 - val_loss: 1.3743 - val_acc: 0.5380\n",
      "Current Learning Rate: 0.001\n",
      "Epoch 5/200\n",
      "25/25 [==============================] - 32s 1s/step - loss: 1.6076 - acc: 0.3688 - val_loss: 1.3300 - val_acc: 0.4427\n",
      "Current Learning Rate: 0.001\n",
      "Epoch 6/200\n",
      "25/25 [==============================] - 28s 1s/step - loss: 1.4967 - acc: 0.3987 - val_loss: 1.5393 - val_acc: 0.3594\n",
      "Current Learning Rate: 0.001\n",
      "Epoch 7/200\n",
      "25/25 [==============================] - 30s 1s/step - loss: 1.4663 - acc: 0.4288 - val_loss: 1.2568 - val_acc: 0.5272\n",
      "Current Learning Rate: 0.001\n",
      "Epoch 8/200\n",
      "25/25 [==============================] - 31s 1s/step - loss: 1.4206 - acc: 0.4213 - val_loss: 1.0789 - val_acc: 0.5781\n",
      "Current Learning Rate: 0.001\n",
      "Epoch 9/200\n",
      "10/25 [===========>..................] - ETA: 16s - loss: 1.5031 - acc: 0.3969"
     ]
    }
   ],
   "source": [
    "model.fit_generator(generator=train_gen,\n",
    "                    steps_per_epoch=nb_train_samples // batch_size,\n",
    "                    epochs=epochs,\n",
    "                    callbacks=[tensor_board, reduce_lr, lrHistory],\n",
    "                    validation_data=validation_gen,\n",
    "                    validation_steps=nb_validation_samples // batch_size)"
   ]
  },
  {
   "cell_type": "markdown",
   "metadata": {},
   "source": [
    "## 7. Model Evaluation"
   ]
  },
  {
   "cell_type": "code",
   "execution_count": null,
   "metadata": {},
   "outputs": [],
   "source": [
    "test_loss, test_acc = model.evaluate_generator(validation_gen, nb_validation_samples)"
   ]
  },
  {
   "cell_type": "code",
   "execution_count": null,
   "metadata": {},
   "outputs": [],
   "source": [
    "print(\"Accuracy = \",test_acc)"
   ]
  },
  {
   "cell_type": "markdown",
   "metadata": {},
   "source": [
    "## 8. Ploting"
   ]
  },
  {
   "cell_type": "code",
   "execution_count": null,
   "metadata": {},
   "outputs": [],
   "source": [
    "import numpy as np\n",
    "import matplotlib.pyplot as plt\n",
    "\n",
    "fig = plt.figure(figsize=(12, 6))\n",
    "\n",
    "x = np.array(range(epochs))\n",
    "y1 = np.array(lrHistory.lrHistory)\n",
    "y2 = model.history.history['val_loss']\n",
    "\n",
    "\n",
    "ax1 = fig.add_subplot(1,1,1)\n",
    "ax1.plot(x, y1, 'b-', label='Learning Rate')\n",
    "\n",
    "ax2 = ax1.twinx()\n",
    "ax2.plot(x, y2, 'r-', label='Validation Loss')\n",
    "\n",
    "ax1.set_xticks(range(0,201,20))\n",
    "ax1.set_xticklabels(range(1,202,20))\n",
    "\n",
    "ax1.set_title('Learning rate change trend through ReduceLROnPlateau', size=16)\n",
    "ax1.set_xlabel('Epoch')\n",
    "ax1.set_ylabel('Learning Rate',)\n",
    "ax2.set_ylabel('Validation Loss')\n",
    "\n",
    "handles1, labels1 = ax1.get_legend_handles_labels()\n",
    "handles2, labels2 = ax2.get_legend_handles_labels()\n",
    "plt.legend(handles1+handles2, labels1+labels2, loc='upper right')\n",
    "plt.show()"
   ]
  },
  {
   "cell_type": "code",
   "execution_count": null,
   "metadata": {},
   "outputs": [],
   "source": [
    "def self_fish_model():\n",
    "    #--------------------参数读入---------------\n",
    "    print(\"--------------读入参数---------------\")\n",
    "    train_data_directory = './images/train'\n",
    "    test_data_directory = './images/test'\n",
    "\n",
    "    img_width, img_height = 100, 100\n",
    "\n",
    "    nb_train_samples = 800\n",
    "    nb_validation_samples = 200\n",
    "\n",
    "    batch_size = 32\n",
    "    epochs = 200\n",
    "    \n",
    "    #--------------------数据加载---------------\n",
    "    print(\"--------------数据加载---------------\")\n",
    "    train_data_generator = ImageDataGenerator(rescale=1. / 255,\n",
    "                                          rotation_range = 90,\n",
    "                                          width_shift_range = 0.2,\n",
    "                                          height_shift_range = 0.2,\n",
    "                                          zoom_range = 0.3,\n",
    "                                          horizontal_flip = True)\n",
    "\n",
    "    test_data_generator = ImageDataGenerator(rescale=1. / 255)\n",
    "    \n",
    "# 在这里需要对训练数据进行数据扩展，需要进行参数设置\n",
    "# 对于测试数据集我们需要使用原数据，只进行标准化操作\n",
    "    train_gen = train_data_generator.flow_from_directory(train_data_directory,\n",
    "                                                           target_size=(img_width, img_height),\n",
    "                                                           batch_size=batch_size,\n",
    "                                                           class_mode='categorical')\n",
    "\n",
    "    validation_gen = test_data_generator.flow_from_directory(test_data_directory,\n",
    "                                                               target_size=(img_width, img_height),\n",
    "                                                               batch_size=batch_size,\n",
    "                                                               class_mode='categorical')\n",
    "\n",
    "# 二分类任务class_mode使用“binary”\n",
    "# 多分类任务class_mode使用“categorical”\n",
    "\n",
    "   #------------------------model-------------------------------\n",
    "    print(\"--------------搭建模型---------------\")\n",
    "    model = Sequential()\n",
    "\n",
    "    model.add(Conv2D(32, (3, 3), input_shape=(img_width, img_height, 3), activation=\"relu\")) \n",
    "    model.add(MaxPooling2D(pool_size=(2, 2)))\n",
    "\n",
    "    model.add(Conv2D(32, (3, 3), activation=\"relu\"))\n",
    "    model.add(MaxPooling2D(pool_size=(2, 2)))\n",
    "\n",
    "    model.add(Conv2D(64, (3, 3), activation=\"relu\"))\n",
    "    model.add(MaxPooling2D(pool_size=(2, 2)))\n",
    "\n",
    "    model.add(Flatten())\n",
    "    model.add(Dense(64, activation=\"relu\"))\n",
    "    model.add(Dropout(0.5))\n",
    "    model.add(Dense(6, activation=\"softmax\"))\n",
    "\n",
    "    model.compile(loss='categorical_crossentropy',\n",
    "              optimizer='rmsprop',\n",
    "              metrics=['accuracy'])\n",
    "\n",
    "    model.summary()\n",
    "    \n",
    "    #---------------------reduceLearning_rate_function----------------------\n",
    "    print(\"---------------reduceLearning_rate_function----------------------\")\n",
    "    tensor_board = callbacks.TensorBoard(log_dir='./logs')\n",
    "    \n",
    "    #---------------------reduceLearning_rate_function----------------------\n",
    "    print(\"---------------callbacks_function----------------------\")\n",
    "    class LearningRateHistory(Callback):\n",
    "        def on_train_begin(self, logs={}):\n",
    "            self.lrHistory = []\n",
    "\n",
    "        def on_epoch_end(self, epoch, logs={}):\n",
    "            lr = K.get_value(model.optimizer.lr)\n",
    "            self.lrHistory.append(lr)\n",
    "            print('Current Learning Rate: ' + str(lr))\n",
    "            \n",
    "    lrHistory = LearningRateHistory()\n",
    "    \n",
    "    #----------------model_train--------------\n",
    "    print(\"----------model_train--------------\")\n",
    "    model.fit_generator(generator=train_gen,\n",
    "                    steps_per_epoch=nb_train_samples // batch_size,\n",
    "                    epochs=epochs,\n",
    "                    callbacks=[tensor_board, reduce_lr, lrHistory],\n",
    "                    validation_data=validation_gen,\n",
    "                    validation_steps=nb_validation_samples // batch_size)\n",
    "    test_loss, test_acc = model.evaluate_generator(validation_gen, nb_validation_samples)\n",
    "    print(\"Accuracy = \",test_acc)\n",
    "    fig = plt.figure(figsize=(12, 6))\n",
    "\n",
    "    x = np.array(range(epochs))\n",
    "    y1 = np.array(lrHistory.lrHistory)\n",
    "    y2 = model.history.history['val_loss']\n",
    "\n",
    "\n",
    "    ax1 = fig.add_subplot(1,1,1)\n",
    "    ax1.plot(x, y1, 'b-', label='Learning Rate')\n",
    "\n",
    "    ax2 = ax1.twinx()\n",
    "    ax2.plot(x, y2, 'r-', label='Validation Loss')\n",
    "\n",
    "    ax1.set_xticks(range(0,201,20))\n",
    "    ax1.set_xticklabels(range(1,202,20))\n",
    "\n",
    "    ax1.set_title('Learning rate change trend through ReduceLROnPlateau', size=16)\n",
    "    ax1.set_xlabel('Epoch')\n",
    "    ax1.set_ylabel('Learning Rate',)\n",
    "    ax2.set_ylabel('Validation Loss')\n",
    "\n",
    "    handles1, labels1 = ax1.get_legend_handles_labels()\n",
    "    handles2, labels2 = ax2.get_legend_handles_labels()\n",
    "    plt.legend(handles1+handles2, labels1+labels2, loc='upper right')\n",
    "    plt.show()"
   ]
  },
  {
   "cell_type": "code",
   "execution_count": null,
   "metadata": {},
   "outputs": [],
   "source": [
    "print('test before save: ', model.predict(X_test[0:2]))\n",
    "model.save('my_model.h5') "
   ]
  },
  {
   "cell_type": "markdown",
   "metadata": {},
   "source": [
    "# - END -"
   ]
  }
 ],
 "metadata": {
  "kernelspec": {
   "display_name": "Python 3",
   "language": "python",
   "name": "python3"
  },
  "language_info": {
   "codemirror_mode": {
    "name": "ipython",
    "version": 3
   },
   "file_extension": ".py",
   "mimetype": "text/x-python",
   "name": "python",
   "nbconvert_exporter": "python",
   "pygments_lexer": "ipython3",
   "version": "3.6.7"
  }
 },
 "nbformat": 4,
 "nbformat_minor": 2
}
